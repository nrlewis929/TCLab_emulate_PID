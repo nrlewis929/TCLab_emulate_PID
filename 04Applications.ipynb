{
 "cells": [
  {
   "cell_type": "markdown",
   "metadata": {},
   "source": [
    "# Applications of using LSTM to emulate PID controller\n",
    "The LSTM is shown to closely approximate the PID controller in 03Emulate_PID.ipynb. In addition, the PID tuning parameters can be perturbed for different behavior. This is shown in the red portion of the graphs and can be changed with the start_anom variable. This simulates a \"bad actor\" operator intentionally adjusting the controller parameters for poor performance. The LSTM comparison clearly shows when the PID controller has started to behave erratically. Note that if the PID controller tuning parameters are intentionally changed, the LSTM should be retrained. "
   ]
  },
  {
   "cell_type": "code",
   "execution_count": 1,
   "metadata": {
    "ExecuteTime": {
     "end_time": "2020-10-28T16:20:22.226790Z",
     "start_time": "2020-10-28T16:20:15.493052Z"
    }
   },
   "outputs": [],
   "source": [
    "import tclab\n",
    "import pandas as pd\n",
    "import numpy as np\n",
    "import matplotlib.pyplot as plt\n",
    "import random\n",
    "import time\n",
    "import pickle\n",
    "from tqdm import tqdm # Progress bar\n",
    "import imageio\n",
    "\n",
    "# For LSTM model\n",
    "from keras.models import load_model"
   ]
  },
  {
   "cell_type": "code",
   "execution_count": 2,
   "metadata": {
    "ExecuteTime": {
     "end_time": "2020-10-28T16:20:27.552147Z",
     "start_time": "2020-10-28T16:20:22.228792Z"
    },
    "scrolled": true
   },
   "outputs": [
    {
     "name": "stdout",
     "output_type": "stream",
     "text": [
      "TCLab version 0.4.9\n",
      "Arduino Leonardo connected on port COM3 at 115200 baud.\n",
      "TCLab Firmware Version 1.01.\n",
      "TCLab disconnected successfully.\n"
     ]
    },
    {
     "data": {
      "image/png": "[encoded data removed]",
      "text/plain": [
       "<Figure size 432x288 with 1 Axes>"
      ]
     },
     "metadata": {
      "needs_background": "light"
     },
     "output_type": "display_data"
    }
   ],
   "source": [
    "#### Set up run ####\n",
    "\n",
    "# Import model and model parameters\n",
    "model = load_model('pid_emulate.h5')\n",
    "model_params = pickle.load(open('model_params.pkl', 'rb'))\n",
    "\n",
    "s_x = model_params['Xscale']\n",
    "s_y = model_params['yscale']\n",
    "window = model_params['window']\n",
    "\n",
    "# Run time in minutes\n",
    "run_time = 45.0\n",
    "\n",
    "# Number of cycles\n",
    "loops = int(60.0*run_time)\n",
    "\n",
    "# arrays for storing data\n",
    "T1 = np.zeros(loops) # measured T (degC)\n",
    "Qpid = np.zeros(loops) # Heater values for PID controller\n",
    "Qlstm = np.zeros(loops) # Heater values for LSTM controller\n",
    "tm = np.zeros(loops) # Time\n",
    "t_pid = np.zeros(loops) # Time to compute PID controller output\n",
    "t_lstm = np.zeros(loops) # Time to compute LSTM controller output\n",
    "Q2 = np.zeros(loops)\n",
    "\n",
    "# Time range to introduce anomaly (turn on heater 2, change PID tuning constants)\n",
    "start_anom = int(0.7*loops)\n",
    "\n",
    "# Heater 2 turned on during anomaly window\n",
    "Q2[start_anom:] = 80\n",
    "\n",
    "# Temperature set point (degC)\n",
    "with tclab.TCLab() as lab:\n",
    "    Tsp = np.ones(loops) * lab.T1\n",
    "\n",
    "# vary temperature setpoint\n",
    "end = window + 15 # leave 1st window + 15 seconds of temp set point as room temp\n",
    "while end <= start_anom: \n",
    "    start = end\n",
    "    # keep new temp set point value for anywhere from 4 to 10 min\n",
    "    end += random.randint(240,600) \n",
    "    Tsp[start:end] = random.randint(30,70)\n",
    "    \n",
    "while end <= loops: \n",
    "    start = end\n",
    "    # keep new temp set point value for anywhere from 4 to 10 min\n",
    "    end += random.randint(240,600) \n",
    "    Tsp[start:end] = random.randint(30,50)\n",
    "    \n",
    "# Plot\n",
    "plt.plot(Tsp)\n",
    "plt.axvspan(start_anom,loops,facecolor='r',alpha=0.2);"
   ]
  },
  {
   "cell_type": "code",
   "execution_count": 3,
   "metadata": {
    "ExecuteTime": {
     "end_time": "2020-10-28T16:20:27.575897Z",
     "start_time": "2020-10-28T16:20:27.553960Z"
    }
   },
   "outputs": [],
   "source": [
    "# PID Parameters\n",
    "Kc0   = 6.0\n",
    "tauI0 = 75.0 # sec\n",
    "tauD0 = 0.0  # sec\n",
    "\n",
    "#-----------------------------------------\n",
    "# PID Controller\n",
    "#-----------------------------------------\n",
    "\n",
    "def pid(sp,pv,pv_last,ierr,dt,Kc,tauI,tauD):\n",
    "    # PID coefficients in terms of tuning parameters\n",
    "    KP = Kc\n",
    "    KI = Kc / tauI\n",
    "    KD = Kc * tauD\n",
    "    \n",
    "    # ubias for controller (initial heater)\n",
    "    op0 = 0 \n",
    "    \n",
    "    # upper and lower bounds on heater level\n",
    "    ophi = 100\n",
    "    oplo = 0\n",
    "    \n",
    "    # calculate the error\n",
    "    error = sp - pv\n",
    "    \n",
    "    # calculate the integral error\n",
    "    ierr = ierr + KI * error * dt\n",
    "    \n",
    "    # calculate the measurement derivative\n",
    "    dpv = (pv - pv_last) / dt\n",
    "    \n",
    "    # calculate the PID output\n",
    "    P = KP * error\n",
    "    I = ierr\n",
    "    D = -KD * dpv\n",
    "    op = op0 + P + I + D\n",
    "    \n",
    "    # implement anti-reset windup\n",
    "    if op < oplo or op > ophi:\n",
    "        I = I - KI * error * dt\n",
    "        # clip output\n",
    "        op = max(oplo,min(ophi,op))\n",
    "        \n",
    "    # return the controller output and PID terms\n",
    "    return [op,P,I,D]"
   ]
  },
  {
   "cell_type": "code",
   "execution_count": 4,
   "metadata": {
    "ExecuteTime": {
     "end_time": "2020-10-28T16:20:27.591739Z",
     "start_time": "2020-10-28T16:20:27.577773Z"
    }
   },
   "outputs": [],
   "source": [
    "#-----------------------------------------\n",
    "# LSTM Controller\n",
    "#-----------------------------------------\n",
    "\n",
    "def lstm(T1_m, Tsp_m):\n",
    "    # Calculate error (necessary feature for LSTM input)\n",
    "    err = Tsp_m - T1_m\n",
    "    \n",
    "    # Format data for LSTM input\n",
    "    X = np.vstack((Tsp_m,err)).T\n",
    "    Xs = s_x.transform(X)\n",
    "    Xs = np.reshape(Xs, (1, Xs.shape[0], Xs.shape[1]))\n",
    "    \n",
    "    # Predict Q for controller and unscale\n",
    "    Q1c_s = model.predict(Xs)\n",
    "    Q1c = s_y.inverse_transform(Q1c_s)[0][0]\n",
    "    \n",
    "    # Ensure Q1c is between 0 and 100\n",
    "    Q1c = np.clip(Q1c,0.0,100.0)\n",
    "    \n",
    "    return Q1c"
   ]
  },
  {
   "cell_type": "markdown",
   "metadata": {},
   "source": [
    "# Test A: Heater 2 turned on"
   ]
  },
  {
   "cell_type": "code",
   "execution_count": 5,
   "metadata": {
    "ExecuteTime": {
     "end_time": "2020-10-28T17:05:33.984853Z",
     "start_time": "2020-10-28T16:20:27.593798Z"
    }
   },
   "outputs": [
    {
     "name": "stdout",
     "output_type": "stream",
     "text": [
      "TCLab version 0.4.9\n"
     ]
    },
    {
     "name": "stderr",
     "output_type": "stream",
     "text": [
      "\r",
      "  0%|                                                                | 0/2700 [00:00<?, ?it/s]"
     ]
    },
    {
     "name": "stdout",
     "output_type": "stream",
     "text": [
      "Arduino Leonardo connected on port COM3 at 115200 baud.\n",
      "TCLab Firmware Version 1.01.\n",
      "Temperature 1: 23.80 °C\n",
      "Temperature 2: 23.51 °C\n"
     ]
    },
    {
     "name": "stderr",
     "output_type": "stream",
     "text": [
      "100%|█████████████████████████████████████████████████████| 2700/2700 [45:02<00:00,  1.00s/it]"
     ]
    },
    {
     "name": "stdout",
     "output_type": "stream",
     "text": [
      "TCLab disconnected successfully.\n"
     ]
    },
    {
     "name": "stderr",
     "output_type": "stream",
     "text": [
      "\n"
     ]
    }
   ],
   "source": [
    "# Run test\n",
    "with tclab.TCLab() as lab:\n",
    "    # Find current T1, T2\n",
    "    print('Temperature 1: {0:0.2f} °C'.format(lab.T1))\n",
    "    print('Temperature 2: {0:0.2f} °C'.format(lab.T2))\n",
    "\n",
    "    start_time = time.time()\n",
    "    t = start_time\n",
    "\n",
    "    for i in tqdm(range(loops)):\n",
    "        # Delay 1 second\n",
    "        if time.time() > t + 1.0:\n",
    "            print('Exceeded cycle time by ',time.time()-t-1.0)\n",
    "        else:\n",
    "            while time.time() < t + 1.0:\n",
    "                pass\n",
    "\n",
    "        # Record time and change in time\n",
    "        t = time.time()\n",
    "        tm[i] = t - start_time\n",
    "\n",
    "        # Read temperature (C)\n",
    "        T1[i] = lab.T1\n",
    "\n",
    "        # Run LSTM model to get Q1 value for control\n",
    "        if i >= window:\n",
    "            # Load data for model\n",
    "            T1_m = T1[i-window:i]\n",
    "            Tsp_m = Tsp[i-window:i]\n",
    "            # Timer for LSTM controller output\n",
    "            t0_lstm = time.time()\n",
    "            # Predict and store LSTM value for comparison\n",
    "            Qlstm[i] = lstm(T1_m,Tsp_m)\n",
    "            tf_lstm = time.time()\n",
    "\n",
    "        # Write heater output (0-100)\n",
    "        lab.Q1(Qlstm[i])\n",
    "        lab.Q2(Q2[i])\n",
    "\n",
    "        # Generate images to make a gif; only need every 10 images\n",
    "        if i%10 == 0:\n",
    "            plt.figure(figsize=(10,4))\n",
    "            plt.plot(Tsp,'k-',label='SP $(^oC)$')\n",
    "            plt.plot(T1[:i],'r-',label='$T_1$ $(^oC)$')\n",
    "            plt.plot(Qlstm[:i],'g-',label='$Q_{LSTM}$ (%)')\n",
    "            plt.axvspan(start_anom,loops,facecolor='r',alpha=0.2,label='Q2 on')\n",
    "            plt.ylim((0,100))\n",
    "            plt.xlabel('Time (s)',size=14)\n",
    "            plt.xticks(size=12)\n",
    "            plt.yticks(size=12)\n",
    "            if i < loops/2:\n",
    "                plt.legend(fontsize=14,loc='upper right')\n",
    "            else:\n",
    "                plt.legend(fontsize=14,loc='upper left')\n",
    "\n",
    "\n",
    "            num = str(i)\n",
    "            num = num.zfill(len(str(loops)))\n",
    "            filename='./figures/heater_anom_'+num+'.png'\n",
    "            plt.savefig(filename)\n",
    "            plt.close()"
   ]
  },
  {
   "cell_type": "code",
   "execution_count": 6,
   "metadata": {
    "ExecuteTime": {
     "end_time": "2020-10-28T17:05:41.510972Z",
     "start_time": "2020-10-28T17:05:33.986828Z"
    }
   },
   "outputs": [],
   "source": [
    "# Generate gif\n",
    "images = []\n",
    "for i in range(0,loops,10):\n",
    "    num = str(i)\n",
    "    num = num.zfill(len(str(loops)))\n",
    "    filename='./figures/heater_anom_'+num+'.png'\n",
    "    images.append(imageio.imread(filename))\n",
    "imageio.mimsave('heater_anomaly.gif', images)"
   ]
  },
  {
   "cell_type": "code",
   "execution_count": 7,
   "metadata": {
    "ExecuteTime": {
     "end_time": "2020-10-28T17:05:41.654968Z",
     "start_time": "2020-10-28T17:05:41.512939Z"
    }
   },
   "outputs": [
    {
     "data": {
      "text/plain": [
       "[<matplotlib.lines.Line2D at 0x1aec6140e08>]"
      ]
     },
     "execution_count": 7,
     "metadata": {},
     "output_type": "execute_result"
    },
    {
     "data": {
      "image/png": "[encoded data removed]",
      "text/plain": [
       "<Figure size 432x288 with 1 Axes>"
      ]
     },
     "metadata": {
      "needs_background": "light"
     },
     "output_type": "display_data"
    }
   ],
   "source": [
    "# Plot error \n",
    "err = T1 - Tsp\n",
    "plt.plot(err)"
   ]
  },
  {
   "cell_type": "markdown",
   "metadata": {},
   "source": [
    "# Test B: PID parameters changed\n",
    "Also find the time required to run LSTM and PID calculations"
   ]
  },
  {
   "cell_type": "code",
   "execution_count": 8,
   "metadata": {
    "ExecuteTime": {
     "end_time": "2020-10-28T17:50:47.638197Z",
     "start_time": "2020-10-28T17:05:41.657939Z"
    }
   },
   "outputs": [
    {
     "name": "stdout",
     "output_type": "stream",
     "text": [
      "TCLab version 0.4.9\n"
     ]
    },
    {
     "name": "stderr",
     "output_type": "stream",
     "text": [
      "\r",
      "  0%|                                                                | 0/2700 [00:00<?, ?it/s]"
     ]
    },
    {
     "name": "stdout",
     "output_type": "stream",
     "text": [
      "Arduino Leonardo connected on port COM3 at 115200 baud.\n",
      "TCLab Firmware Version 1.01.\n",
      "Temperature 1: 38.62 °C\n",
      "Temperature 2: 48.32 °C\n"
     ]
    },
    {
     "name": "stderr",
     "output_type": "stream",
     "text": [
      " 16%|████████▍                                             | 421/2700 [07:02<50:20,  1.33s/it]"
     ]
    },
    {
     "name": "stdout",
     "output_type": "stream",
     "text": [
      "Exceeded cycle time by  0.12419509887695312\n"
     ]
    },
    {
     "name": "stderr",
     "output_type": "stream",
     "text": [
      "100%|█████████████████████████████████████████████████████| 2700/2700 [45:01<00:00,  1.00s/it]"
     ]
    },
    {
     "name": "stdout",
     "output_type": "stream",
     "text": [
      "TCLab disconnected successfully.\n"
     ]
    },
    {
     "name": "stderr",
     "output_type": "stream",
     "text": [
      "\n"
     ]
    }
   ],
   "source": [
    "# Run test\n",
    "with tclab.TCLab() as lab:\n",
    "    # Find current T1, T2\n",
    "    print('Temperature 1: {0:0.2f} °C'.format(lab.T1))\n",
    "    print('Temperature 2: {0:0.2f} °C'.format(lab.T2))\n",
    "\n",
    "    # Integral error\n",
    "    ierr = 0.0\n",
    "    # Integral absolute error\n",
    "    iae = 0.0\n",
    "\n",
    "    start_time = time.time()\n",
    "    prev_time = start_time\n",
    "\n",
    "    for i in tqdm(range(loops)):\n",
    "        # Delay 1 second\n",
    "        if time.time() > prev_time + 1.0:\n",
    "            print('Exceeded cycle time by ',time.time()-prev_time-1.0)\n",
    "        else:\n",
    "            while time.time() < prev_time + 1.0:\n",
    "                pass\n",
    "        \n",
    "        # Record time and change in time\n",
    "        t = time.time()\n",
    "        dt = t - prev_time\n",
    "        prev_time = t\n",
    "        tm[i] = t - start_time\n",
    "\n",
    "        # Read temperature (C)\n",
    "        T1[i] = lab.T1\n",
    "\n",
    "        # Integral absolute error\n",
    "        iae += np.abs(Tsp[i]-T1[i])\n",
    "\n",
    "        # Perturb PID tuning parameter\n",
    "        if i > start_anom:\n",
    "            Kc, tauI, tauD = 3.0*Kc0, 0.5*tauI0, tauD0 + 2.0\n",
    "        else:\n",
    "            Kc, tauI, tauD = Kc0, tauI0, tauD0\n",
    "            \n",
    "        # Calculate PID output (and time)\n",
    "        t0_pid = time.time()\n",
    "        [Qpid[i],P,ierr,D] = pid(Tsp[i],T1[i],T1[i-1],ierr,dt,\n",
    "                                 Kc=Kc,tauI=tauI,tauD=tauD)\n",
    "        tf_pid = time.time()\n",
    "\n",
    "        # Write heater output (0-100)\n",
    "        lab.Q1(Qpid[i])\n",
    "        \n",
    "        # Run LSTM model to get Q1 value for control\n",
    "        if i >= window:\n",
    "            # Load data for model\n",
    "            T1_m = T1[i-window:i]\n",
    "            Tsp_m = Tsp[i-window:i]\n",
    "            # Predict and store LSTM value for comparison\n",
    "            t0_lstm = time.time()\n",
    "            Qlstm[i] = lstm(T1_m,Tsp_m)\n",
    "            tf_lstm = time.time()\n",
    "            \n",
    "        # Save controller times\n",
    "        t_pid[i] = tf_pid - t0_pid\n",
    "        t_lstm[i] = tf_lstm - t0_lstm\n",
    "            \n",
    "        # Generate images to make a gif; only need every 10 images\n",
    "        if i%10 == 0:\n",
    "            plt.figure(figsize=(10,4))\n",
    "            plt.plot(Tsp,'k-',label='SP $(^oC)$')\n",
    "            plt.plot(T1[:i],'r-',label='$T_1$ $(^oC)$')\n",
    "            plt.plot(Qpid[:i],'b-',label='$Q_{PID}$ (%)')\n",
    "            plt.plot(Qlstm[:i],'g-',label='$Q_{LSTM}$ (%)')\n",
    "            plt.axvspan(start_anom,loops,facecolor='r',alpha=0.2)\n",
    "            plt.ylim((0,100))\n",
    "            plt.xlabel('Time (s)',size=14)\n",
    "            plt.xticks(size=12)\n",
    "            plt.yticks(size=12)\n",
    "            if i < loops/2:\n",
    "                plt.legend(fontsize=14,loc='upper right',ncol=2)\n",
    "            else:\n",
    "                plt.legend(fontsize=14,loc='upper left',ncol=2)\n",
    "\n",
    "            num = str(i)\n",
    "            num = num.zfill(len(str(loops)))\n",
    "            filename='./figures/pid_anom_'+num+'.png'\n",
    "            plt.savefig(filename)\n",
    "            plt.close()"
   ]
  },
  {
   "cell_type": "code",
   "execution_count": 9,
   "metadata": {
    "ExecuteTime": {
     "end_time": "2020-10-28T17:50:55.161359Z",
     "start_time": "2020-10-28T17:50:47.640033Z"
    }
   },
   "outputs": [],
   "source": [
    "# Generate gif from saved images\n",
    "images = []\n",
    "for i in range(0,loops,10):\n",
    "    num = str(i)\n",
    "    num = num.zfill(len(str(loops)))\n",
    "    filename='./figures/pid_anom_'+num+'.png'\n",
    "    images.append(imageio.imread(filename))\n",
    "imageio.mimsave('pid_anomaly.gif', images)"
   ]
  },
  {
   "cell_type": "code",
   "execution_count": 10,
   "metadata": {
    "ExecuteTime": {
     "end_time": "2020-10-28T17:50:55.273393Z",
     "start_time": "2020-10-28T17:50:55.163359Z"
    }
   },
   "outputs": [
    {
     "name": "stdout",
     "output_type": "stream",
     "text": [
      "LSTM time: [0.03020024 0.03020024 0.03020024 ... 0.02890253 0.02999902 0.02989316] s\n",
      "PID time:  [0. 0. 0. ... 0. 0. 0.] s\n"
     ]
    },
    {
     "data": {
      "image/png": "[encoded data removed]",
      "text/plain": [
       "<Figure size 432x288 with 1 Axes>"
      ]
     },
     "metadata": {
      "needs_background": "light"
     },
     "output_type": "display_data"
    }
   ],
   "source": [
    "# Plot error \n",
    "err = T1 - Tsp\n",
    "plt.plot(err)\n",
    "\n",
    "# Display time\n",
    "print('LSTM time:',t_lstm,'s')\n",
    "print('PID time: ',t_pid,'s')"
   ]
  }
 ],
 "metadata": {
  "hide_input": false,
  "kernelspec": {
   "display_name": "Python 3",
   "language": "python",
   "name": "python3"
  },
  "language_info": {
   "codemirror_mode": {
    "name": "ipython",
    "version": 3
   },
   "file_extension": ".py",
   "mimetype": "text/x-python",
   "name": "python",
   "nbconvert_exporter": "python",
   "pygments_lexer": "ipython3",
   "version": "3.7.6"
  },
  "varInspector": {
   "cols": {
    "lenName": 16,
    "lenType": 16,
    "lenVar": 40
   },
   "kernels_config": {
    "python": {
     "delete_cmd_postfix": "",
     "delete_cmd_prefix": "del ",
     "library": "var_list.py",
     "varRefreshCmd": "print(var_dic_list())"
    },
    "r": {
     "delete_cmd_postfix": ") ",
     "delete_cmd_prefix": "rm(",
     "library": "var_list.r",
     "varRefreshCmd": "cat(var_dic_list()) "
    }
   },
   "types_to_exclude": [
    "module",
    "function",
    "builtin_function_or_method",
    "instance",
    "_Feature"
   ],
   "window_display": false
  }
 },
 "nbformat": 4,
 "nbformat_minor": 2
}
