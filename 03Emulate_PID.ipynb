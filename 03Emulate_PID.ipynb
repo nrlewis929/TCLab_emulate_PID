{
 "cells": [
  {
   "cell_type": "markdown",
   "metadata": {},
   "source": [
    "# Emulate PID controller with LSTM\n",
    "With the trained model saved from 02Train_PID.ipynb, run the TCLab with the set point data. The LSTM model will emulate the behavior it learned from the controller and predict the heater output to achieve the given setpoint.\n",
    "\n",
    "Features:\n",
    "* Initially runs the controller with the PID, also calculating the LSTM output for comparison\n",
    "* Does a second run with only the LSTM controlling the heater\n",
    "* Creates a gif of the controller\n"
   ]
  },
  {
   "cell_type": "code",
   "execution_count": 1,
   "metadata": {
    "ExecuteTime": {
     "end_time": "2020-10-19T18:37:26.944985Z",
     "start_time": "2020-10-19T18:37:24.118261Z"
    }
   },
   "outputs": [],
   "source": [
    "import tclab\n",
    "import pandas as pd\n",
    "import numpy as np\n",
    "import matplotlib.pyplot as plt\n",
    "import random\n",
    "import time\n",
    "import pickle\n",
    "from tqdm import tqdm # Progress bar\n",
    "\n",
    "# For LSTM model\n",
    "from keras.models import load_model"
   ]
  },
  {
   "cell_type": "code",
   "execution_count": 2,
   "metadata": {
    "ExecuteTime": {
     "end_time": "2020-10-19T18:37:26.992984Z",
     "start_time": "2020-10-19T18:37:26.950965Z"
    }
   },
   "outputs": [],
   "source": [
    "# Setup for gif animation\n",
    "import imageio  # required to make animation\n",
    "import os\n",
    "try:\n",
    "    os.mkdir('./figures')\n",
    "except:\n",
    "    pass"
   ]
  },
  {
   "cell_type": "code",
   "execution_count": 3,
   "metadata": {
    "ExecuteTime": {
     "end_time": "2020-10-19T18:37:32.031143Z",
     "start_time": "2020-10-19T18:37:26.997965Z"
    },
    "scrolled": true
   },
   "outputs": [
    {
     "name": "stdout",
     "output_type": "stream",
     "text": [
      "TCLab version 0.4.9\n",
      "Arduino Leonardo connected on port COM3 at 115200 baud.\n",
      "TCLab Firmware Version 1.01.\n",
      "TCLab disconnected successfully.\n"
     ]
    },
    {
     "data": {
      "image/png": "[encoded data removed]",
      "text/plain": [
       "<Figure size 432x288 with 1 Axes>"
      ]
     },
     "metadata": {
      "needs_background": "light"
     },
     "output_type": "display_data"
    }
   ],
   "source": [
    "#### Set up run ####\n",
    "\n",
    "# Import model and model parameters\n",
    "model = load_model('pid_emulate.h5')\n",
    "model_params = pickle.load(open('model_params.pkl', 'rb'))\n",
    "\n",
    "s_x = model_params['Xscale']\n",
    "s_y = model_params['yscale']\n",
    "window = model_params['window']\n",
    "\n",
    "# Run time in minutes\n",
    "run_time = 30.0\n",
    "\n",
    "# Number of cycles\n",
    "loops = int(60.0*run_time)\n",
    "\n",
    "# arrays for storing data\n",
    "T1 = np.zeros(loops) # measured T (degC)\n",
    "Qpid = np.zeros(loops) # Heater values for PID controller\n",
    "Qlstm = np.zeros(loops) # Heater values for LSTM controller\n",
    "tm = np.zeros(loops) # Time\n",
    "\n",
    "# Temperature set point (degC)\n",
    "with tclab.TCLab() as lab:\n",
    "    Tsp = np.ones(loops) * lab.T1\n",
    "\n",
    "# vary temperature setpoint\n",
    "end = window + 15 # leave 1st window + 15 seconds of temp set point as room temp\n",
    "while end <= loops: \n",
    "    start = end\n",
    "    # keep new temp set point value for anywhere from 4 to 10 min\n",
    "    end += random.randint(240,600) \n",
    "    Tsp[start:end] = random.randint(30,70)\n",
    "    \n",
    "# leave last 120 seconds as room temp\n",
    "Tsp[-120:] = Tsp[0]\n",
    "\n",
    "plt.plot(Tsp);"
   ]
  },
  {
   "cell_type": "markdown",
   "metadata": {},
   "source": [
    "# Part A: Run the controller with the PID, but also output the LSTM for comparison"
   ]
  },
  {
   "cell_type": "code",
   "execution_count": 4,
   "metadata": {
    "ExecuteTime": {
     "end_time": "2020-10-19T18:37:38.933968Z",
     "start_time": "2020-10-19T18:37:38.926980Z"
    }
   },
   "outputs": [],
   "source": [
    "# PID Parameters\n",
    "Kc   = 6.0\n",
    "tauI = 75.0 # sec\n",
    "tauD = 0.0  # sec\n",
    "\n",
    "#-----------------------------------------\n",
    "# PID Controller\n",
    "#-----------------------------------------\n",
    "\n",
    "def pid(sp,pv,pv_last,ierr,dt):\n",
    "    # PID coefficients in terms of tuning parameters\n",
    "    KP = Kc\n",
    "    KI = Kc / tauI\n",
    "    KD = Kc * tauD\n",
    "    \n",
    "    # ubias for controller (initial heater)\n",
    "    op0 = 0 \n",
    "    \n",
    "    # upper and lower bounds on heater level\n",
    "    ophi = 100\n",
    "    oplo = 0\n",
    "    \n",
    "    # calculate the error\n",
    "    error = sp - pv\n",
    "    \n",
    "    # calculate the integral error\n",
    "    ierr = ierr + KI * error * dt\n",
    "    \n",
    "    # calculate the measurement derivative\n",
    "    dpv = (pv - pv_last) / dt\n",
    "    \n",
    "    # calculate the PID output\n",
    "    P = KP * error\n",
    "    I = ierr\n",
    "    D = -KD * dpv\n",
    "    op = op0 + P + I + D\n",
    "    \n",
    "    # implement anti-reset windup\n",
    "    if op < oplo or op > ophi:\n",
    "        I = I - KI * error * dt\n",
    "        # clip output\n",
    "        op = max(oplo,min(ophi,op))\n",
    "        \n",
    "    # return the controller output and PID terms\n",
    "    return [op,P,I,D]"
   ]
  },
  {
   "cell_type": "code",
   "execution_count": 5,
   "metadata": {
    "ExecuteTime": {
     "end_time": "2020-10-19T18:37:42.251343Z",
     "start_time": "2020-10-19T18:37:42.244344Z"
    }
   },
   "outputs": [],
   "source": [
    "#-----------------------------------------\n",
    "# LSTM Controller\n",
    "#-----------------------------------------\n",
    "\n",
    "def lstm(T1_m, Tsp_m):\n",
    "    # Calculate error (necessary feature for LSTM input)\n",
    "    err = Tsp_m - T1_m\n",
    "    \n",
    "    # Format data for LSTM input\n",
    "    X = np.vstack((Tsp_m,err)).T\n",
    "    Xs = s_x.transform(X)\n",
    "    Xs = np.reshape(Xs, (1, Xs.shape[0], Xs.shape[1]))\n",
    "    \n",
    "    # Predict Q for controller and unscale\n",
    "    Q1c_s = model.predict(Xs)\n",
    "    Q1c = s_y.inverse_transform(Q1c_s)[0][0]\n",
    "    \n",
    "    # Ensure Q1c is between 0 and 100\n",
    "    Q1c = np.clip(Q1c,0.0,100.0)\n",
    "    \n",
    "    return Q1c"
   ]
  },
  {
   "cell_type": "code",
   "execution_count": 6,
   "metadata": {
    "ExecuteTime": {
     "end_time": "2020-10-19T19:07:49.277861Z",
     "start_time": "2020-10-19T18:37:44.290041Z"
    }
   },
   "outputs": [
    {
     "name": "stdout",
     "output_type": "stream",
     "text": [
      "TCLab version 0.4.9\n"
     ]
    },
    {
     "name": "stderr",
     "output_type": "stream",
     "text": [
      "\r",
      "  0%|                                                                                         | 0/1800 [00:00<?, ?it/s]"
     ]
    },
    {
     "name": "stdout",
     "output_type": "stream",
     "text": [
      "Arduino Leonardo connected on port COM3 at 115200 baud.\n",
      "TCLab Firmware Version 1.01.\n",
      "Temperature 1: 26.38 °C\n",
      "Temperature 2: 25.70 °C\n"
     ]
    },
    {
     "name": "stderr",
     "output_type": "stream",
     "text": [
      "100%|██████████████████████████████████████████████████████████████████████████████| 1800/1800 [30:00<00:00,  1.00s/it]"
     ]
    },
    {
     "name": "stdout",
     "output_type": "stream",
     "text": [
      "TCLab disconnected successfully.\n"
     ]
    },
    {
     "name": "stderr",
     "output_type": "stream",
     "text": [
      "\n"
     ]
    }
   ],
   "source": [
    "# Run test\n",
    "with tclab.TCLab() as lab:\n",
    "    # Find current T1, T2\n",
    "    print('Temperature 1: {0:0.2f} °C'.format(lab.T1))\n",
    "    print('Temperature 2: {0:0.2f} °C'.format(lab.T2))\n",
    "\n",
    "    # Integral error\n",
    "    ierr = 0.0\n",
    "    # Integral absolute error\n",
    "    iae = 0.0\n",
    "\n",
    "    start_time = time.time()\n",
    "    prev_time = start_time\n",
    "\n",
    "    for i in tqdm(range(loops)):\n",
    "        # Delay 1 second\n",
    "        if time.time() > prev_time + 1.0:\n",
    "            print('Exceeded cycle time by ',time.time()-prev_time-1.0)\n",
    "        else:\n",
    "            while time.time() < prev_time + 1.0:\n",
    "                pass\n",
    "        \n",
    "        # Record time and change in time\n",
    "        t = time.time()\n",
    "        dt = t - prev_time\n",
    "        prev_time = t\n",
    "        tm[i] = t - start_time\n",
    "\n",
    "        # Read temperature (C)\n",
    "        T1[i] = lab.T1\n",
    "\n",
    "        # Integral absolute error\n",
    "        iae += np.abs(Tsp[i]-T1[i])\n",
    "\n",
    "        # Calculate PID output\n",
    "        [Qpid[i],P,ierr,D] = pid(Tsp[i],T1[i],T1[i-1],ierr,dt)\n",
    "\n",
    "        # Write heater output (0-100)\n",
    "        lab.Q1(Qpid[i])\n",
    "        \n",
    "        # Run LSTM model to get Q1 value for control\n",
    "        if i >= window:\n",
    "            # Load data for model\n",
    "            T1_m = T1[i-window:i]\n",
    "            Tsp_m = Tsp[i-window:i]\n",
    "            # Predict and store LSTM value for comparison\n",
    "            Qlstm[i] = lstm(T1_m,Tsp_m)\n",
    "            \n",
    "        # Generate images to make a gif; only need every 10 images\n",
    "        if i%10 == 0:\n",
    "            plt.figure(figsize=(10,4))\n",
    "            plt.plot(Tsp,'k-',label='SP $(^oC)$')\n",
    "            plt.plot(T1[:i],'r-',label='$T_1$ $(^oC)$')\n",
    "            plt.plot(Qpid[:i],'b-',label='$Q_{PID}$ (%)')\n",
    "            plt.plot(Qlstm[:i],'g-',label='$Q_{LSTM}$ (%)')\n",
    "            plt.legend(loc='upper right',fontsize=14)\n",
    "            plt.ylim((0,100))\n",
    "            plt.xlabel('Time (s)',size=14)\n",
    "            plt.xticks(size=12)\n",
    "            plt.yticks(size=12)\n",
    "\n",
    "            num = str(i)\n",
    "            num = num.zfill(len(str(loops)))\n",
    "            filename='./figures/pid_'+num+'.png'\n",
    "            plt.savefig(filename)\n",
    "            plt.close()"
   ]
  },
  {
   "cell_type": "code",
   "execution_count": 7,
   "metadata": {
    "ExecuteTime": {
     "end_time": "2020-10-19T19:10:19.314885Z",
     "start_time": "2020-10-19T19:10:14.915363Z"
    }
   },
   "outputs": [],
   "source": [
    "# Generate gif from saved images\n",
    "images = []\n",
    "for i in range(0,loops,10):\n",
    "    num = str(i)\n",
    "    num = num.zfill(len(str(loops)))\n",
    "    filename='./figures/pid_'+num+'.png'\n",
    "    images.append(imageio.imread(filename))\n",
    "imageio.mimsave('pid_controller.gif', images)"
   ]
  },
  {
   "cell_type": "markdown",
   "metadata": {},
   "source": [
    "# Part B: Run the controller with just the LSTM"
   ]
  },
  {
   "cell_type": "code",
   "execution_count": 8,
   "metadata": {
    "ExecuteTime": {
     "end_time": "2020-10-19T19:40:52.214072Z",
     "start_time": "2020-10-19T19:10:47.218998Z"
    },
    "scrolled": true
   },
   "outputs": [
    {
     "name": "stdout",
     "output_type": "stream",
     "text": [
      "TCLab version 0.4.9\n"
     ]
    },
    {
     "name": "stderr",
     "output_type": "stream",
     "text": [
      "\r",
      "  0%|                                                                                         | 0/1800 [00:00<?, ?it/s]"
     ]
    },
    {
     "name": "stdout",
     "output_type": "stream",
     "text": [
      "Arduino Leonardo connected on port COM3 at 115200 baud.\n",
      "TCLab Firmware Version 1.01.\n",
      "Temperature 1: 30.86 °C\n",
      "Temperature 2: 28.96 °C\n"
     ]
    },
    {
     "name": "stderr",
     "output_type": "stream",
     "text": [
      "100%|██████████████████████████████████████████████████████████████████████████████| 1800/1800 [30:00<00:00,  1.00s/it]"
     ]
    },
    {
     "name": "stdout",
     "output_type": "stream",
     "text": [
      "TCLab disconnected successfully.\n"
     ]
    },
    {
     "name": "stderr",
     "output_type": "stream",
     "text": [
      "\n"
     ]
    }
   ],
   "source": [
    "# Run test\n",
    "with tclab.TCLab() as lab:\n",
    "    # Find current T1, T2\n",
    "    print('Temperature 1: {0:0.2f} °C'.format(lab.T1))\n",
    "    print('Temperature 2: {0:0.2f} °C'.format(lab.T2))\n",
    "\n",
    "    start_time = time.time()\n",
    "\n",
    "    for i in tqdm(range(loops)):\n",
    "        # Delay 1 second\n",
    "        if time.time() > prev_time + 1.0:\n",
    "            print('Exceeded cycle time by ',time.time()-prev_time-1.0)\n",
    "        else:\n",
    "            while time.time() < prev_time + 1.0:\n",
    "                pass\n",
    "\n",
    "        # Record time and change in time\n",
    "        t = time.time()\n",
    "        tm[i] = t - start_time\n",
    "\n",
    "        # Read temperature (C)\n",
    "        T1[i] = lab.T1\n",
    "\n",
    "        # Run LSTM model to get Q1 value for control\n",
    "        if i >= window:\n",
    "            # Load data for model\n",
    "            T1_m = T1[i-window:i]\n",
    "            Tsp_m = Tsp[i-window:i]\n",
    "            # Predict and store LSTM value for comparison\n",
    "            Qlstm[i] = lstm(T1_m,Tsp_m)\n",
    "\n",
    "        # Write heater output (0-100)\n",
    "        lab.Q1(Qlstm[i])\n",
    "\n",
    "        # Generate images to make a gif; only need every 10 images\n",
    "        if i%10 == 0:\n",
    "            plt.figure(figsize=(10,4))\n",
    "            plt.plot(Tsp,'k-',label='SP $(^oC)$')\n",
    "            plt.plot(T1[:i],'r-',label='$T_1$ $(^oC)$')\n",
    "            plt.plot(Qlstm[:i],'g-',label='$Q_{LSTM}$ (%)')\n",
    "            plt.legend(loc='upper right',fontsize=14)\n",
    "            plt.ylim((0,100))\n",
    "            plt.xlabel('Time (s)',size=14)\n",
    "            plt.xticks(size=12)\n",
    "            plt.yticks(size=12)\n",
    "\n",
    "            num = str(i)\n",
    "            num = num.zfill(len(str(loops)))\n",
    "            filename='./figures/lstm_'+num+'.png'\n",
    "            plt.savefig(filename)\n",
    "            plt.close()"
   ]
  },
  {
   "cell_type": "code",
   "execution_count": 9,
   "metadata": {
    "ExecuteTime": {
     "end_time": "2020-10-19T19:40:56.905468Z",
     "start_time": "2020-10-19T19:40:52.220076Z"
    },
    "scrolled": true
   },
   "outputs": [],
   "source": [
    "# Generate gif\n",
    "images = []\n",
    "for i in range(0,loops,10):\n",
    "    num = str(i)\n",
    "    num = num.zfill(len(str(loops)))\n",
    "    filename='./figures/lstm_'+num+'.png'\n",
    "    images.append(imageio.imread(filename))\n",
    "imageio.mimsave('lstm_controller.gif', images)"
   ]
  }
 ],
 "metadata": {
  "hide_input": false,
  "kernelspec": {
   "display_name": "Python 3",
   "language": "python",
   "name": "python3"
  },
  "language_info": {
   "codemirror_mode": {
    "name": "ipython",
    "version": 3
   },
   "file_extension": ".py",
   "mimetype": "text/x-python",
   "name": "python",
   "nbconvert_exporter": "python",
   "pygments_lexer": "ipython3",
   "version": "3.7.6"
  },
  "varInspector": {
   "cols": {
    "lenName": 16,
    "lenType": 16,
    "lenVar": 40
   },
   "kernels_config": {
    "python": {
     "delete_cmd_postfix": "",
     "delete_cmd_prefix": "del ",
     "library": "var_list.py",
     "varRefreshCmd": "print(var_dic_list())"
    },
    "r": {
     "delete_cmd_postfix": ") ",
     "delete_cmd_prefix": "rm(",
     "library": "var_list.r",
     "varRefreshCmd": "cat(var_dic_list()) "
    }
   },
   "types_to_exclude": [
    "module",
    "function",
    "builtin_function_or_method",
    "instance",
    "_Feature"
   ],
   "window_display": false
  }
 },
 "nbformat": 4,
 "nbformat_minor": 2
}
